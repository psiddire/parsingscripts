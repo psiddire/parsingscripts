{
 "cells": [
  {
   "cell_type": "code",
   "execution_count": 1,
   "metadata": {},
   "outputs": [],
   "source": [
    "from __future__ import print_function, division\n",
    "\n",
    "import numpy as np\n",
    "import matplotlib.pyplot as plt\n",
    "import h5py\n",
    "import pandas as pd\n",
    "\n",
    "import pyjet"
   ]
  },
  {
   "cell_type": "code",
   "execution_count": 2,
   "metadata": {},
   "outputs": [],
   "source": [
    "import fastjet as fj"
   ]
  },
  {
   "cell_type": "code",
   "execution_count": 3,
   "metadata": {},
   "outputs": [
    {
     "data": {
      "text/plain": [
       "<HDF5 dataset \"block0_values\": shape (1000000, 2100), type \"<f8\">"
      ]
     },
     "execution_count": 3,
     "metadata": {},
     "output_type": "execute_result"
    }
   ],
   "source": [
    "f = h5py.File('events_LHCO2020_backgroundMC_Pythia.h5','r')\n",
    "f.keys()\n",
    "dset = f['df']\n",
    "dset.keys()\n",
    "data = dset['block0_values']\n",
    "data"
   ]
  },
  {
   "cell_type": "code",
   "execution_count": 29,
   "metadata": {},
   "outputs": [],
   "source": [
    "qcd_data = pd.read_hdf('events_LHCO2020_backgroundMC_Pythia.h5')\n",
    "sig_data = pd.read_hdf('events_LHCO2020_BlackBox1.h5')"
   ]
  },
  {
   "cell_type": "markdown",
   "metadata": {},
   "source": [
    "# Load files\n",
    "#fn_qcd =  'events_LHCO2020_backgroundMC_Pythia.h5'\n",
    "#f_qcd = h5py.File(fn_qcd,'r')\n",
    "#qcd_data = f_qcd[\"table\"].value\n",
    "\n",
    "#fn_sig =  'events_LHCO2020_BlackBox1.h5'\n",
    "#f_sig = h5py.File(fn_sig,'r')\n",
    "#sig_data = f_sig[\"table\"].value\n",
    "\n",
    "#print(qcd_data.shape) # Event / Constituent in Event / pT eta phj\n",
    "\n",
    "#reread.iloc[0:10,0:10]\n",
    "\n",
    "#for i in range(10):\n",
    "#    print(reread.at[i,1])\n",
    "#reread.shape[1]"
   ]
  },
  {
   "cell_type": "code",
   "execution_count": 30,
   "metadata": {},
   "outputs": [],
   "source": [
    "def run(data,n_events=1000):\n",
    "    \n",
    "    out = []\n",
    "    \n",
    "    # Loop over events\n",
    "    for ievt in range(n_events):\n",
    "\n",
    "        # Build a list of all particles\n",
    "        pjs = []\n",
    "        for i in range(int(data.shape[1]/3)):\n",
    "            pj = fj.PseudoJet()\n",
    "            pj.reset_PtYPhiM(data.at[ievt,3*i+0],data.at[ievt,3*i+1],data.at[ievt,3*i+2],0)\n",
    "            pjs.append(pj)\n",
    "\n",
    "        # run jet clustering with AntiKt, R=1.0\n",
    "        R = 1.0\n",
    "        jet_def = fj.JetDefinition(fj.antikt_algorithm, R)\n",
    "\n",
    "        # Save the two leading jets\n",
    "        jets = jet_def(pjs)\n",
    "        jets = [j for j in jets if j.pt()>30.]\n",
    "        out.append([jets[0],jets[1]])\n",
    "                \n",
    "    return out"
   ]
  },
  {
   "cell_type": "code",
   "execution_count": 31,
   "metadata": {},
   "outputs": [],
   "source": [
    "# Actually run\n",
    "# (this may take a few minutes)\n",
    "out_qcd = run(qcd_data)\n",
    "out_sig = run(sig_data)"
   ]
  },
  {
   "cell_type": "code",
   "execution_count": 43,
   "metadata": {},
   "outputs": [
    {
     "data": {
      "image/png": "[encoded data removed]",
      "text/plain": [
       "<Figure size 432x288 with 1 Axes>"
      ]
     },
     "metadata": {
      "needs_background": "light"
     },
     "output_type": "display_data"
    }
   ],
   "source": [
    "# Extract the leading dijet mass for signal..\n",
    "dijet_m_sig = []\n",
    "for evt in out_sig:\n",
    "    dijet_m_sig.append( (evt[0]+evt[1]).m())\n",
    "\n",
    "# ..and background\n",
    "dijet_m_qcd = []\n",
    "for evt in out_qcd:\n",
    "    dijet_m_qcd.append( (evt[0]+evt[1]).m())\n",
    "\n",
    "# and plot\n",
    "_ = plt.hist(dijet_m_sig,label=\"Signal\",bins=60,histtype='step')\n",
    "_ = plt.hist(dijet_m_qcd,label=\"QCD\",bins=60,histtype='step')\n",
    "plt.legend()\n",
    "plt.title('QCD vs Signal')\n",
    "plt.xlabel('Di-jet Invariant Mass (GeV)')\n",
    "plt.ylabel('Events per bin')\n",
    "plt.savefig('QCD_sig_old.png')"
   ]
  },
  {
   "cell_type": "code",
   "execution_count": null,
   "metadata": {},
   "outputs": [],
   "source": []
  }
 ],
 "metadata": {
  "kernelspec": {
   "display_name": "Python 3",
   "language": "python",
   "name": "python3"
  },
  "language_info": {
   "codemirror_mode": {
    "name": "ipython",
    "version": 3
   },
   "file_extension": ".py",
   "mimetype": "text/x-python",
   "name": "python",
   "nbconvert_exporter": "python",
   "pygments_lexer": "ipython3",
   "version": "3.7.3"
  }
 },
 "nbformat": 4,
 "nbformat_minor": 2
}
